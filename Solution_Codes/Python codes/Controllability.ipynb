{
 "cells": [
  {
   "cell_type": "code",
   "execution_count": 247,
   "metadata": {},
   "outputs": [],
   "source": [
    "from sympy import *\n",
    "init_printing(use_unicode=True)\n",
    "F =Symbol(\"F\")\n",
    "l_1 = Symbol(\"l_1\")\n",
    "l_2 = Symbol(\"l_2\")\n",
    "m_1 = Symbol(\"m_1\")\n",
    "m_2 = Symbol(\"m_2\")\n",
    "theta_1 = Symbol(\"theta_1\")\n",
    "theta_2 = Symbol(\"theta_2\")\n",
    "theta_1_dot =Symbol(\"thetadot_1\")\n",
    "theta_2_dot =Symbol(\"thetadot_2\")\n",
    "g = Symbol(\"g\")\n",
    "M = Symbol(\"M\")\n"
   ]
  },
  {
   "cell_type": "code",
   "execution_count": 248,
   "metadata": {},
   "outputs": [
    {
     "data": {
      "image/png": "[encoded data removed]",
      "text/latex": [
       "$\\displaystyle \\frac{F - g m_{1} \\sin{\\left(\\theta_{1} \\right)} \\cos{\\left(\\theta_{1} \\right)} - g m_{2} \\sin{\\left(\\theta_{2} \\right)} \\cos{\\left(\\theta_{2} \\right)} - l_{1} m_{1} \\dot{\\theta}_{1}^{2} \\sin{\\left(\\theta_{1} \\right)} - l_{2} m_{2} \\dot{\\theta}_{2}^{2} \\sin{\\left(\\theta_{2} \\right)}}{M + m_{1} \\sin^{2}{\\left(\\theta_{1} \\right)} + m_{2} \\sin^{2}{\\left(\\theta_{2} \\right)}}$"
      ],
      "text/plain": [
       "                                                          2                   \n",
       "F - g⋅m₁⋅sin(θ₁)⋅cos(θ₁) - g⋅m₂⋅sin(θ₂)⋅cos(θ₂) - l₁⋅m₁⋅θ̇₁ ⋅sin(θ₁) - l₂⋅m₂⋅θ\n",
       "──────────────────────────────────────────────────────────────────────────────\n",
       "                                       2             2                        \n",
       "                             M + m₁⋅sin (θ₁) + m₂⋅sin (θ₂)                    \n",
       "\n",
       "2        \n",
       "̇₂ ⋅sin(θ₂)\n",
       "─────────\n",
       "         \n",
       "         "
      ]
     },
     "execution_count": 248,
     "metadata": {},
     "output_type": "execute_result"
    }
   ],
   "source": [
    "f2 = (F-m_1*l_1*theta_1_dot**2*sin(theta_1)-m_2*l_2*theta_2_dot**2*sin(theta_2)-m_1*g*sin(theta_1)*cos(theta_1)-m_2*g*sin(theta_2)*cos(theta_2))/(M+m_1*sin(theta_1)**2+m_2*sin(theta_2)**2)\n",
    "f2"
   ]
  },
  {
   "cell_type": "code",
   "execution_count": 249,
   "metadata": {},
   "outputs": [
    {
     "name": "stdout",
     "output_type": "stream",
     "text": [
      "- \\frac{2 m_{1} \\left(F - g m_{1} \\sin{\\left(\\theta_{1} \\right)} \\cos{\\left(\\theta_{1} \\right)} - g m_{2} \\sin{\\left(\\theta_{2} \\right)} \\cos{\\left(\\theta_{2} \\right)} - l_{1} m_{1} \\dot{\\theta}_{1}^{2} \\sin{\\left(\\theta_{1} \\right)} - l_{2} m_{2} \\dot{\\theta}_{2}^{2} \\sin{\\left(\\theta_{2} \\right)}\\right) \\sin{\\left(\\theta_{1} \\right)} \\cos{\\left(\\theta_{1} \\right)}}{\\left(M + m_{1} \\sin^{2}{\\left(\\theta_{1} \\right)} + m_{2} \\sin^{2}{\\left(\\theta_{2} \\right)}\\right)^{2}} + \\frac{g m_{1} \\sin^{2}{\\left(\\theta_{1} \\right)} - g m_{1} \\cos^{2}{\\left(\\theta_{1} \\right)} - l_{1} m_{1} \\dot{\\theta}_{1}^{2} \\cos{\\left(\\theta_{1} \\right)}}{M + m_{1} \\sin^{2}{\\left(\\theta_{1} \\right)} + m_{2} \\sin^{2}{\\left(\\theta_{2} \\right)}}\n"
     ]
    }
   ],
   "source": [
    "ele23 = diff(f2,theta_1)\n",
    "print(latex(ele23))"
   ]
  },
  {
   "cell_type": "code",
   "execution_count": 250,
   "metadata": {},
   "outputs": [
    {
     "name": "stdout",
     "output_type": "stream",
     "text": [
      "- \\frac{g m_{1}}{M}\n"
     ]
    }
   ],
   "source": [
    "ele23_=ele23.subs(theta_1,0)\n",
    "ele23_=ele23_.subs(theta_1_dot,0)\n",
    "ele23_=ele23_.subs(theta_2,0)\n",
    "ele23_=ele23_.subs(theta_2_dot,0)\n",
    "print(latex(ele23_))"
   ]
  },
  {
   "cell_type": "code",
   "execution_count": 251,
   "metadata": {},
   "outputs": [
    {
     "name": "stdout",
     "output_type": "stream",
     "text": [
      "- \\frac{2 l_{1} m_{1} \\dot{\\theta}_{1} \\sin{\\left(\\theta_{1} \\right)}}{M + m_{1} \\sin^{2}{\\left(\\theta_{1} \\right)} + m_{2} \\sin^{2}{\\left(\\theta_{2} \\right)}}\n"
     ]
    }
   ],
   "source": [
    "ele24=diff(f2,theta_1_dot)\n",
    "print(latex(ele24))"
   ]
  },
  {
   "cell_type": "code",
   "execution_count": 252,
   "metadata": {},
   "outputs": [
    {
     "data": {
      "image/png": "[encoded data removed]",
      "text/latex": [
       "$\\displaystyle 0$"
      ],
      "text/plain": [
       "0"
      ]
     },
     "execution_count": 252,
     "metadata": {},
     "output_type": "execute_result"
    }
   ],
   "source": [
    "ele24_=ele24.subs(theta_1,0)\n",
    "ele24_=ele24_.subs(theta_1_dot,0)\n",
    "ele24_=ele24_.subs(theta_2,0)\n",
    "ele24_=ele24_.subs(theta_2_dot,0)\n",
    "ele24_"
   ]
  },
  {
   "cell_type": "code",
   "execution_count": 253,
   "metadata": {},
   "outputs": [
    {
     "name": "stdout",
     "output_type": "stream",
     "text": [
      "- \\frac{2 m_{2} \\left(F - g m_{1} \\sin{\\left(\\theta_{1} \\right)} \\cos{\\left(\\theta_{1} \\right)} - g m_{2} \\sin{\\left(\\theta_{2} \\right)} \\cos{\\left(\\theta_{2} \\right)} - l_{1} m_{1} \\dot{\\theta}_{1}^{2} \\sin{\\left(\\theta_{1} \\right)} - l_{2} m_{2} \\dot{\\theta}_{2}^{2} \\sin{\\left(\\theta_{2} \\right)}\\right) \\sin{\\left(\\theta_{2} \\right)} \\cos{\\left(\\theta_{2} \\right)}}{\\left(M + m_{1} \\sin^{2}{\\left(\\theta_{1} \\right)} + m_{2} \\sin^{2}{\\left(\\theta_{2} \\right)}\\right)^{2}} + \\frac{g m_{2} \\sin^{2}{\\left(\\theta_{2} \\right)} - g m_{2} \\cos^{2}{\\left(\\theta_{2} \\right)} - l_{2} m_{2} \\dot{\\theta}_{2}^{2} \\cos{\\left(\\theta_{2} \\right)}}{M + m_{1} \\sin^{2}{\\left(\\theta_{1} \\right)} + m_{2} \\sin^{2}{\\left(\\theta_{2} \\right)}}\n"
     ]
    }
   ],
   "source": [
    "ele25=diff(f2,theta_2)\n",
    "print(latex(ele25))"
   ]
  },
  {
   "cell_type": "code",
   "execution_count": 254,
   "metadata": {},
   "outputs": [
    {
     "name": "stdout",
     "output_type": "stream",
     "text": [
      "- \\frac{g m_{2}}{M}\n"
     ]
    }
   ],
   "source": [
    "ele25_=ele25.subs(theta_1,0)\n",
    "ele25_=ele25_.subs(theta_1_dot,0)\n",
    "ele25_=ele25_.subs(theta_2,0)\n",
    "ele25_=ele25_.subs(theta_2_dot,0)\n",
    "print(latex(ele25_))"
   ]
  },
  {
   "cell_type": "code",
   "execution_count": 255,
   "metadata": {},
   "outputs": [
    {
     "name": "stdout",
     "output_type": "stream",
     "text": [
      "- \\frac{2 l_{2} m_{2} \\dot{\\theta}_{2} \\sin{\\left(\\theta_{2} \\right)}}{M + m_{1} \\sin^{2}{\\left(\\theta_{1} \\right)} + m_{2} \\sin^{2}{\\left(\\theta_{2} \\right)}}\n"
     ]
    }
   ],
   "source": [
    "ele26=diff(f2,theta_2_dot)\n",
    "print(latex(ele26))"
   ]
  },
  {
   "cell_type": "code",
   "execution_count": 256,
   "metadata": {},
   "outputs": [
    {
     "data": {
      "image/png": "[encoded data removed]",
      "text/latex": [
       "$\\displaystyle 0$"
      ],
      "text/plain": [
       "0"
      ]
     },
     "execution_count": 256,
     "metadata": {},
     "output_type": "execute_result"
    }
   ],
   "source": [
    "ele26_=ele26.subs(theta_1,0)\n",
    "ele26_=ele26_.subs(theta_1_dot,0)\n",
    "ele26_=ele26_.subs(theta_2,0)\n",
    "ele26_=ele26_.subs(theta_2_dot,0)\n",
    "ele26_"
   ]
  },
  {
   "cell_type": "code",
   "execution_count": 257,
   "metadata": {},
   "outputs": [
    {
     "data": {
      "image/png": "[encoded data removed]",
      "text/latex": [
       "$\\displaystyle - \\frac{g \\sin{\\left(\\theta_{1} \\right)}}{l_{1}} + \\frac{\\left(F - g m_{1} \\sin{\\left(\\theta_{1} \\right)} \\cos{\\left(\\theta_{1} \\right)} - g m_{2} \\sin{\\left(\\theta_{2} \\right)} \\cos{\\left(\\theta_{2} \\right)} - l_{1} m_{1} \\dot{\\theta}_{1}^{2} \\sin{\\left(\\theta_{1} \\right)} - l_{2} m_{2} \\dot{\\theta}_{2}^{2} \\sin{\\left(\\theta_{2} \\right)}\\right) \\cos{\\left(\\theta_{1} \\right)}}{l_{1} \\left(M + m_{1} \\sin^{2}{\\left(\\theta_{1} \\right)} + m_{2} \\sin^{2}{\\left(\\theta_{2} \\right)}\\right)}$"
      ],
      "text/plain": [
       "              ⎛                                                          2    \n",
       "  g⋅sin(θ₁)   ⎝F - g⋅m₁⋅sin(θ₁)⋅cos(θ₁) - g⋅m₂⋅sin(θ₂)⋅cos(θ₂) - l₁⋅m₁⋅θ̇₁ ⋅si\n",
       "- ───────── + ────────────────────────────────────────────────────────────────\n",
       "      l₁                                         ⎛          2             2   \n",
       "                                              l₁⋅⎝M + m₁⋅sin (θ₁) + m₂⋅sin (θ₂\n",
       "\n",
       "               2        ⎞        \n",
       "n(θ₁) - l₂⋅m₂⋅θ̇₂ ⋅sin(θ₂)⎠⋅cos(θ₁)\n",
       "─────────────────────────────────\n",
       " ⎞                               \n",
       ")⎠                               "
      ]
     },
     "execution_count": 257,
     "metadata": {},
     "output_type": "execute_result"
    }
   ],
   "source": [
    "thetadotdot_1=Symbol(\"thetaddot_1\")\n",
    "f4 = (f2*cos(theta_1)/l_1)-(g/l_1)*sin(theta_1)\n",
    "f4"
   ]
  },
  {
   "cell_type": "code",
   "execution_count": 258,
   "metadata": {},
   "outputs": [
    {
     "data": {
      "image/png": "[encoded data removed]",
      "text/latex": [
       "$\\displaystyle - \\frac{g \\cos{\\left(\\theta_{1} \\right)}}{l_{1}} - \\frac{2.0 m_{1} \\left(F - g m_{1} \\sin{\\left(\\theta_{1} \\right)} \\cos{\\left(\\theta_{1} \\right)} - g m_{2} \\sin{\\left(\\theta_{2} \\right)} \\cos{\\left(\\theta_{2} \\right)} - l_{1} m_{1} \\dot{\\theta}_{1}^{2} \\sin{\\left(\\theta_{1} \\right)} - l_{2} m_{2} \\dot{\\theta}_{2}^{2} \\sin{\\left(\\theta_{2} \\right)}\\right) \\sin{\\left(\\theta_{1} \\right)} \\cos^{2}{\\left(\\theta_{1} \\right)}}{l_{1} \\left(M + m_{1} \\sin^{2}{\\left(\\theta_{1} \\right)} + m_{2} \\sin^{2}{\\left(\\theta_{2} \\right)}\\right)^{2}} + \\frac{\\left(g m_{1} \\sin^{2}{\\left(\\theta_{1} \\right)} - g m_{1} \\cos^{2}{\\left(\\theta_{1} \\right)} - l_{1} m_{1} \\dot{\\theta}_{1}^{2} \\cos{\\left(\\theta_{1} \\right)}\\right) \\cos{\\left(\\theta_{1} \\right)}}{l_{1} \\left(M + m_{1} \\sin^{2}{\\left(\\theta_{1} \\right)} + m_{2} \\sin^{2}{\\left(\\theta_{2} \\right)}\\right)} - \\frac{\\left(F - g m_{1} \\sin{\\left(\\theta_{1} \\right)} \\cos{\\left(\\theta_{1} \\right)} - g m_{2} \\sin{\\left(\\theta_{2} \\right)} \\cos{\\left(\\theta_{2} \\right)} - l_{1} m_{1} \\dot{\\theta}_{1}^{2} \\sin{\\left(\\theta_{1} \\right)} - l_{2} m_{2} \\dot{\\theta}_{2}^{2} \\sin{\\left(\\theta_{2} \\right)}\\right) \\sin{\\left(\\theta_{1} \\right)}}{l_{1} \\left(M + m_{1} \\sin^{2}{\\left(\\theta_{1} \\right)} + m_{2} \\sin^{2}{\\left(\\theta_{2} \\right)}\\right)}$"
      ],
      "text/plain": [
       "                     ⎛                                                        \n",
       "  g⋅cos(θ₁)   2.0⋅m₁⋅⎝F - g⋅m₁⋅sin(θ₁)⋅cos(θ₁) - g⋅m₂⋅sin(θ₂)⋅cos(θ₂) - l₁⋅m₁⋅\n",
       "- ───────── - ────────────────────────────────────────────────────────────────\n",
       "      l₁                                                                      \n",
       "                                                        ⎛          2          \n",
       "                                                     l₁⋅⎝M + m₁⋅sin (θ₁) + m₂⋅\n",
       "\n",
       "  2                   2        ⎞            2       ⎛        2               2\n",
       "θ̇₁ ⋅sin(θ₁) - l₂⋅m₂⋅θ̇₂ ⋅sin(θ₂)⎠⋅sin(θ₁)⋅cos (θ₁)   ⎝g⋅m₁⋅sin (θ₁) - g⋅m₁⋅co\n",
       "───────────────────────────────────────────────── + ──────────────────────────\n",
       "         2                                                          ⎛         \n",
       "   2    ⎞                                                        l₁⋅⎝M + m₁⋅si\n",
       "sin (θ₂)⎠                                                                     \n",
       "\n",
       "               2        ⎞           ⎛                                         \n",
       "s (θ₁) - l₁⋅m₁⋅θ̇₁ ⋅cos(θ₁)⎠⋅cos(θ₁)   ⎝F - g⋅m₁⋅sin(θ₁)⋅cos(θ₁) - g⋅m₂⋅sin(θ₂\n",
       "───────────────────────────────── - ──────────────────────────────────────────\n",
       " 2             2    ⎞                                                  ⎛      \n",
       "n (θ₁) + m₂⋅sin (θ₂)⎠                                               l₁⋅⎝M + m₁\n",
       "                                                                              \n",
       "\n",
       "                 2                   2        ⎞        \n",
       ")⋅cos(θ₂) - l₁⋅m₁⋅θ̇₁ ⋅sin(θ₁) - l₂⋅m₂⋅θ̇₂ ⋅sin(θ₂)⎠⋅sin(θ₁)\n",
       "───────────────────────────────────────────────────────\n",
       "    2             2    ⎞                               \n",
       "⋅sin (θ₁) + m₂⋅sin (θ₂)⎠                               \n",
       "                                                       "
      ]
     },
     "execution_count": 258,
     "metadata": {},
     "output_type": "execute_result"
    }
   ],
   "source": [
    "ele43=diff(f4,theta_1)\n",
    "ele43.evalf()"
   ]
  },
  {
   "cell_type": "code",
   "execution_count": 259,
   "metadata": {},
   "outputs": [
    {
     "name": "stdout",
     "output_type": "stream",
     "text": [
      "\\frac{g \\left(- M - m_{1}\\right)}{M l_{1}}\n"
     ]
    }
   ],
   "source": [
    "ele43_=ele43.subs(theta_1,0)\n",
    "ele43_=ele43_.subs(theta_1_dot,0)\n",
    "ele43_=ele43_.subs(theta_2,0)\n",
    "ele43_=ele43_.subs(theta_2_dot,0)\n",
    "print(latex(simplify(ele43_)))"
   ]
  },
  {
   "cell_type": "code",
   "execution_count": 260,
   "metadata": {},
   "outputs": [
    {
     "name": "stdout",
     "output_type": "stream",
     "text": [
      "- \\frac{2 m_{1} \\dot{\\theta}_{1} \\sin{\\left(\\theta_{1} \\right)} \\cos{\\left(\\theta_{1} \\right)}}{M + m_{1} \\sin^{2}{\\left(\\theta_{1} \\right)} + m_{2} \\sin^{2}{\\left(\\theta_{2} \\right)}}\n"
     ]
    }
   ],
   "source": [
    "ele44 = diff(f4, theta_1_dot)\n",
    "print(latex(ele44))"
   ]
  },
  {
   "cell_type": "code",
   "execution_count": 261,
   "metadata": {},
   "outputs": [
    {
     "name": "stdout",
     "output_type": "stream",
     "text": [
      "0\n"
     ]
    }
   ],
   "source": [
    "ele44_=ele44.subs(theta_1,0)\n",
    "ele44_=ele44_.subs(theta_1_dot,0)\n",
    "ele44_=ele44_.subs(theta_2,0)\n",
    "ele44_=ele44_.subs(theta_2_dot,0)\n",
    "print(latex(simplify(ele44_)))"
   ]
  },
  {
   "cell_type": "code",
   "execution_count": 262,
   "metadata": {},
   "outputs": [
    {
     "name": "stdout",
     "output_type": "stream",
     "text": [
      "- \\frac{2 m_{2} \\left(F - g m_{1} \\sin{\\left(\\theta_{1} \\right)} \\cos{\\left(\\theta_{1} \\right)} - g m_{2} \\sin{\\left(\\theta_{2} \\right)} \\cos{\\left(\\theta_{2} \\right)} - l_{1} m_{1} \\dot{\\theta}_{1}^{2} \\sin{\\left(\\theta_{1} \\right)} - l_{2} m_{2} \\dot{\\theta}_{2}^{2} \\sin{\\left(\\theta_{2} \\right)}\\right) \\sin{\\left(\\theta_{2} \\right)} \\cos{\\left(\\theta_{1} \\right)} \\cos{\\left(\\theta_{2} \\right)}}{l_{1} \\left(M + m_{1} \\sin^{2}{\\left(\\theta_{1} \\right)} + m_{2} \\sin^{2}{\\left(\\theta_{2} \\right)}\\right)^{2}} + \\frac{\\left(g m_{2} \\sin^{2}{\\left(\\theta_{2} \\right)} - g m_{2} \\cos^{2}{\\left(\\theta_{2} \\right)} - l_{2} m_{2} \\dot{\\theta}_{2}^{2} \\cos{\\left(\\theta_{2} \\right)}\\right) \\cos{\\left(\\theta_{1} \\right)}}{l_{1} \\left(M + m_{1} \\sin^{2}{\\left(\\theta_{1} \\right)} + m_{2} \\sin^{2}{\\left(\\theta_{2} \\right)}\\right)}\n"
     ]
    }
   ],
   "source": [
    "ele45=diff(f4,theta_2)\n",
    "print(latex(ele45))"
   ]
  },
  {
   "cell_type": "code",
   "execution_count": 263,
   "metadata": {},
   "outputs": [
    {
     "name": "stdout",
     "output_type": "stream",
     "text": [
      "- \\frac{g m_{2}}{M l_{1}}\n"
     ]
    }
   ],
   "source": [
    "ele45_=ele45.subs(theta_1,0)\n",
    "ele45_=ele45_.subs(theta_1_dot,0)\n",
    "ele45_=ele45_.subs(theta_2,0)\n",
    "ele45_=ele45_.subs(theta_2_dot,0)\n",
    "print(latex(simplify(ele45_)))"
   ]
  },
  {
   "cell_type": "code",
   "execution_count": 264,
   "metadata": {},
   "outputs": [
    {
     "name": "stdout",
     "output_type": "stream",
     "text": [
      "- \\frac{2 l_{2} m_{2} \\dot{\\theta}_{2} \\sin{\\left(\\theta_{2} \\right)} \\cos{\\left(\\theta_{1} \\right)}}{l_{1} \\left(M + m_{1} \\sin^{2}{\\left(\\theta_{1} \\right)} + m_{2} \\sin^{2}{\\left(\\theta_{2} \\right)}\\right)}\n"
     ]
    }
   ],
   "source": [
    "ele46 = diff(f4, theta_2_dot)\n",
    "print(latex(ele46))"
   ]
  },
  {
   "cell_type": "code",
   "execution_count": 265,
   "metadata": {},
   "outputs": [
    {
     "name": "stdout",
     "output_type": "stream",
     "text": [
      "0\n"
     ]
    }
   ],
   "source": [
    "ele46_=ele46.subs(theta_1,0)\n",
    "ele46_=ele46_.subs(theta_1_dot,0)\n",
    "ele46_=ele46_.subs(theta_2,0)\n",
    "ele46_=ele46_.subs(theta_2_dot,0)\n",
    "print(latex(simplify(ele46_)))"
   ]
  },
  {
   "cell_type": "code",
   "execution_count": 266,
   "metadata": {},
   "outputs": [
    {
     "data": {
      "image/png": "[encoded data removed]",
      "text/latex": [
       "$\\displaystyle - \\frac{g \\sin{\\left(\\theta_{2} \\right)}}{l_{2}} + \\frac{\\left(F - g m_{1} \\sin{\\left(\\theta_{1} \\right)} \\cos{\\left(\\theta_{1} \\right)} - g m_{2} \\sin{\\left(\\theta_{2} \\right)} \\cos{\\left(\\theta_{2} \\right)} - l_{1} m_{1} \\dot{\\theta}_{1}^{2} \\sin{\\left(\\theta_{1} \\right)} - l_{2} m_{2} \\dot{\\theta}_{2}^{2} \\sin{\\left(\\theta_{2} \\right)}\\right) \\cos{\\left(\\theta_{2} \\right)}}{l_{2} \\left(M + m_{1} \\sin^{2}{\\left(\\theta_{1} \\right)} + m_{2} \\sin^{2}{\\left(\\theta_{2} \\right)}\\right)}$"
      ],
      "text/plain": [
       "              ⎛                                                          2    \n",
       "  g⋅sin(θ₂)   ⎝F - g⋅m₁⋅sin(θ₁)⋅cos(θ₁) - g⋅m₂⋅sin(θ₂)⋅cos(θ₂) - l₁⋅m₁⋅θ̇₁ ⋅si\n",
       "- ───────── + ────────────────────────────────────────────────────────────────\n",
       "      l₂                                         ⎛          2             2   \n",
       "                                              l₂⋅⎝M + m₁⋅sin (θ₁) + m₂⋅sin (θ₂\n",
       "\n",
       "               2        ⎞        \n",
       "n(θ₁) - l₂⋅m₂⋅θ̇₂ ⋅sin(θ₂)⎠⋅cos(θ₂)\n",
       "─────────────────────────────────\n",
       " ⎞                               \n",
       ")⎠                               "
      ]
     },
     "execution_count": 266,
     "metadata": {},
     "output_type": "execute_result"
    }
   ],
   "source": [
    "f6 = f2*cos(theta_2)/l_2 - g/l_2 *sin(theta_2)\n",
    "f6"
   ]
  },
  {
   "cell_type": "code",
   "execution_count": 267,
   "metadata": {},
   "outputs": [
    {
     "data": {
      "image/png": "[encoded data removed]",
      "text/latex": [
       "$\\displaystyle - \\frac{2 m_{1} \\left(F - g m_{1} \\sin{\\left(\\theta_{1} \\right)} \\cos{\\left(\\theta_{1} \\right)} - g m_{2} \\sin{\\left(\\theta_{2} \\right)} \\cos{\\left(\\theta_{2} \\right)} - l_{1} m_{1} \\dot{\\theta}_{1}^{2} \\sin{\\left(\\theta_{1} \\right)} - l_{2} m_{2} \\dot{\\theta}_{2}^{2} \\sin{\\left(\\theta_{2} \\right)}\\right) \\sin{\\left(\\theta_{1} \\right)} \\cos{\\left(\\theta_{1} \\right)} \\cos{\\left(\\theta_{2} \\right)}}{l_{2} \\left(M + m_{1} \\sin^{2}{\\left(\\theta_{1} \\right)} + m_{2} \\sin^{2}{\\left(\\theta_{2} \\right)}\\right)^{2}} + \\frac{\\left(g m_{1} \\sin^{2}{\\left(\\theta_{1} \\right)} - g m_{1} \\cos^{2}{\\left(\\theta_{1} \\right)} - l_{1} m_{1} \\dot{\\theta}_{1}^{2} \\cos{\\left(\\theta_{1} \\right)}\\right) \\cos{\\left(\\theta_{2} \\right)}}{l_{2} \\left(M + m_{1} \\sin^{2}{\\left(\\theta_{1} \\right)} + m_{2} \\sin^{2}{\\left(\\theta_{2} \\right)}\\right)}$"
      ],
      "text/plain": [
       "       ⎛                                                          2           \n",
       "  2⋅m₁⋅⎝F - g⋅m₁⋅sin(θ₁)⋅cos(θ₁) - g⋅m₂⋅sin(θ₂)⋅cos(θ₂) - l₁⋅m₁⋅θ̇₁ ⋅sin(θ₁) -\n",
       "- ────────────────────────────────────────────────────────────────────────────\n",
       "                                                                             2\n",
       "                                              ⎛          2             2    ⎞ \n",
       "                                           l₂⋅⎝M + m₁⋅sin (θ₁) + m₂⋅sin (θ₂)⎠ \n",
       "\n",
       "        2        ⎞                           ⎛        2               2       \n",
       " l₂⋅m₂⋅θ̇₂ ⋅sin(θ₂)⎠⋅sin(θ₁)⋅cos(θ₁)⋅cos(θ₂)   ⎝g⋅m₁⋅sin (θ₁) - g⋅m₁⋅cos (θ₁) \n",
       "────────────────────────────────────────── + ─────────────────────────────────\n",
       "                                                             ⎛          2     \n",
       "                                                          l₂⋅⎝M + m₁⋅sin (θ₁) \n",
       "                                                                              \n",
       "\n",
       "        2        ⎞        \n",
       "- l₁⋅m₁⋅θ̇₁ ⋅cos(θ₁)⎠⋅cos(θ₂)\n",
       "──────────────────────────\n",
       "        2    ⎞            \n",
       "+ m₂⋅sin (θ₂)⎠            \n",
       "                          "
      ]
     },
     "execution_count": 267,
     "metadata": {},
     "output_type": "execute_result"
    }
   ],
   "source": [
    "ele63=diff(f6,theta_1)\n",
    "ele63"
   ]
  },
  {
   "cell_type": "code",
   "execution_count": 268,
   "metadata": {},
   "outputs": [
    {
     "name": "stdout",
     "output_type": "stream",
     "text": [
      "- \\frac{g m_{1}}{M l_{2}}\n"
     ]
    }
   ],
   "source": [
    "ele63_=ele63.subs(theta_1,0)\n",
    "ele63_=ele63_.subs(theta_1_dot,0)\n",
    "ele63_=ele63_.subs(theta_2,0)\n",
    "ele63_=ele63_.subs(theta_2_dot,0)\n",
    "print(latex(simplify(ele63_)))"
   ]
  },
  {
   "cell_type": "code",
   "execution_count": 269,
   "metadata": {},
   "outputs": [
    {
     "name": "stdout",
     "output_type": "stream",
     "text": [
      "- \\frac{2 l_{1} m_{1} \\dot{\\theta}_{1} \\sin{\\left(\\theta_{1} \\right)} \\cos{\\left(\\theta_{2} \\right)}}{l_{2} \\left(M + m_{1} \\sin^{2}{\\left(\\theta_{1} \\right)} + m_{2} \\sin^{2}{\\left(\\theta_{2} \\right)}\\right)}\n"
     ]
    }
   ],
   "source": [
    "ele64=diff(f6,theta_1_dot)\n",
    "print(latex(ele64))"
   ]
  },
  {
   "cell_type": "code",
   "execution_count": 270,
   "metadata": {},
   "outputs": [
    {
     "name": "stdout",
     "output_type": "stream",
     "text": [
      "0\n"
     ]
    }
   ],
   "source": [
    "ele64_=ele64.subs(theta_1,0)\n",
    "ele64_=ele64_.subs(theta_1_dot,0)\n",
    "ele64_=ele64_.subs(theta_2,0)\n",
    "ele64_=ele64_.subs(theta_2_dot,0)\n",
    "print(latex(simplify(ele64_)))"
   ]
  },
  {
   "cell_type": "code",
   "execution_count": 271,
   "metadata": {},
   "outputs": [
    {
     "name": "stdout",
     "output_type": "stream",
     "text": [
      "- \\frac{g \\cos{\\left(\\theta_{2} \\right)}}{l_{2}} - \\frac{2 m_{2} \\left(F - g m_{1} \\sin{\\left(\\theta_{1} \\right)} \\cos{\\left(\\theta_{1} \\right)} - g m_{2} \\sin{\\left(\\theta_{2} \\right)} \\cos{\\left(\\theta_{2} \\right)} - l_{1} m_{1} \\dot{\\theta}_{1}^{2} \\sin{\\left(\\theta_{1} \\right)} - l_{2} m_{2} \\dot{\\theta}_{2}^{2} \\sin{\\left(\\theta_{2} \\right)}\\right) \\sin{\\left(\\theta_{2} \\right)} \\cos^{2}{\\left(\\theta_{2} \\right)}}{l_{2} \\left(M + m_{1} \\sin^{2}{\\left(\\theta_{1} \\right)} + m_{2} \\sin^{2}{\\left(\\theta_{2} \\right)}\\right)^{2}} + \\frac{\\left(g m_{2} \\sin^{2}{\\left(\\theta_{2} \\right)} - g m_{2} \\cos^{2}{\\left(\\theta_{2} \\right)} - l_{2} m_{2} \\dot{\\theta}_{2}^{2} \\cos{\\left(\\theta_{2} \\right)}\\right) \\cos{\\left(\\theta_{2} \\right)}}{l_{2} \\left(M + m_{1} \\sin^{2}{\\left(\\theta_{1} \\right)} + m_{2} \\sin^{2}{\\left(\\theta_{2} \\right)}\\right)} - \\frac{\\left(F - g m_{1} \\sin{\\left(\\theta_{1} \\right)} \\cos{\\left(\\theta_{1} \\right)} - g m_{2} \\sin{\\left(\\theta_{2} \\right)} \\cos{\\left(\\theta_{2} \\right)} - l_{1} m_{1} \\dot{\\theta}_{1}^{2} \\sin{\\left(\\theta_{1} \\right)} - l_{2} m_{2} \\dot{\\theta}_{2}^{2} \\sin{\\left(\\theta_{2} \\right)}\\right) \\sin{\\left(\\theta_{2} \\right)}}{l_{2} \\left(M + m_{1} \\sin^{2}{\\left(\\theta_{1} \\right)} + m_{2} \\sin^{2}{\\left(\\theta_{2} \\right)}\\right)}\n"
     ]
    }
   ],
   "source": [
    "ele65=diff(f6,theta_2)\n",
    "print(latex(ele65))"
   ]
  },
  {
   "cell_type": "code",
   "execution_count": 272,
   "metadata": {},
   "outputs": [
    {
     "name": "stdout",
     "output_type": "stream",
     "text": [
      "\\frac{g \\left(- M - m_{2}\\right)}{M l_{2}}\n"
     ]
    }
   ],
   "source": [
    "ele65_=ele65.subs(theta_1,0)\n",
    "ele65_=ele65_.subs(theta_1_dot,0)\n",
    "ele65_=ele65_.subs(theta_2,0)\n",
    "ele65_=ele65_.subs(theta_2_dot,0)\n",
    "print(latex(simplify(ele65_)))"
   ]
  },
  {
   "cell_type": "code",
   "execution_count": 273,
   "metadata": {},
   "outputs": [
    {
     "data": {
      "image/png": "[encoded data removed]",
      "text/latex": [
       "$\\displaystyle - \\frac{g \\cos{\\left(\\theta_{2} \\right)}}{l_{2}} - \\frac{2 m_{2} \\left(F - g m_{1} \\sin{\\left(\\theta_{1} \\right)} \\cos{\\left(\\theta_{1} \\right)} - g m_{2} \\sin{\\left(\\theta_{2} \\right)} \\cos{\\left(\\theta_{2} \\right)} - l_{1} m_{1} \\dot{\\theta}_{1}^{2} \\sin{\\left(\\theta_{1} \\right)} - l_{2} m_{2} \\dot{\\theta}_{2}^{2} \\sin{\\left(\\theta_{2} \\right)}\\right) \\sin{\\left(\\theta_{2} \\right)} \\cos^{2}{\\left(\\theta_{2} \\right)}}{l_{2} \\left(M + m_{1} \\sin^{2}{\\left(\\theta_{1} \\right)} + m_{2} \\sin^{2}{\\left(\\theta_{2} \\right)}\\right)^{2}} + \\frac{\\left(g m_{2} \\sin^{2}{\\left(\\theta_{2} \\right)} - g m_{2} \\cos^{2}{\\left(\\theta_{2} \\right)} - l_{2} m_{2} \\dot{\\theta}_{2}^{2} \\cos{\\left(\\theta_{2} \\right)}\\right) \\cos{\\left(\\theta_{2} \\right)}}{l_{2} \\left(M + m_{1} \\sin^{2}{\\left(\\theta_{1} \\right)} + m_{2} \\sin^{2}{\\left(\\theta_{2} \\right)}\\right)} - \\frac{\\left(F - g m_{1} \\sin{\\left(\\theta_{1} \\right)} \\cos{\\left(\\theta_{1} \\right)} - g m_{2} \\sin{\\left(\\theta_{2} \\right)} \\cos{\\left(\\theta_{2} \\right)} - l_{1} m_{1} \\dot{\\theta}_{1}^{2} \\sin{\\left(\\theta_{1} \\right)} - l_{2} m_{2} \\dot{\\theta}_{2}^{2} \\sin{\\left(\\theta_{2} \\right)}\\right) \\sin{\\left(\\theta_{2} \\right)}}{l_{2} \\left(M + m_{1} \\sin^{2}{\\left(\\theta_{1} \\right)} + m_{2} \\sin^{2}{\\left(\\theta_{2} \\right)}\\right)}$"
      ],
      "text/plain": [
       "                   ⎛                                                          \n",
       "  g⋅cos(θ₂)   2⋅m₂⋅⎝F - g⋅m₁⋅sin(θ₁)⋅cos(θ₁) - g⋅m₂⋅sin(θ₂)⋅cos(θ₂) - l₁⋅m₁⋅θ̇\n",
       "- ───────── - ────────────────────────────────────────────────────────────────\n",
       "      l₂                                                                      \n",
       "                                                       ⎛          2           \n",
       "                                                    l₂⋅⎝M + m₁⋅sin (θ₁) + m₂⋅s\n",
       "\n",
       "2                   2        ⎞            2       ⎛        2               2  \n",
       "₁ ⋅sin(θ₁) - l₂⋅m₂⋅θ̇₂ ⋅sin(θ₂)⎠⋅sin(θ₂)⋅cos (θ₂)   ⎝g⋅m₂⋅sin (θ₂) - g⋅m₂⋅cos \n",
       "─────────────────────────────────────────────── + ────────────────────────────\n",
       "        2                                                         ⎛          2\n",
       "  2    ⎞                                                       l₂⋅⎝M + m₁⋅sin \n",
       "in (θ₂)⎠                                                                      \n",
       "\n",
       "             2        ⎞           ⎛                                           \n",
       "(θ₂) - l₂⋅m₂⋅θ̇₂ ⋅cos(θ₂)⎠⋅cos(θ₂)   ⎝F - g⋅m₁⋅sin(θ₁)⋅cos(θ₁) - g⋅m₂⋅sin(θ₂)⋅\n",
       "─────────────────────────────── - ────────────────────────────────────────────\n",
       "             2    ⎞                                                  ⎛        \n",
       "(θ₁) + m₂⋅sin (θ₂)⎠                                               l₂⋅⎝M + m₁⋅s\n",
       "                                                                              \n",
       "\n",
       "               2                   2        ⎞        \n",
       "cos(θ₂) - l₁⋅m₁⋅θ̇₁ ⋅sin(θ₁) - l₂⋅m₂⋅θ̇₂ ⋅sin(θ₂)⎠⋅sin(θ₂)\n",
       "─────────────────────────────────────────────────────\n",
       "  2             2    ⎞                               \n",
       "in (θ₁) + m₂⋅sin (θ₂)⎠                               \n",
       "                                                     "
      ]
     },
     "execution_count": 273,
     "metadata": {},
     "output_type": "execute_result"
    }
   ],
   "source": [
    "ele66=diff(f6,theta_2_dot)\n",
    "ele65"
   ]
  },
  {
   "cell_type": "code",
   "execution_count": 274,
   "metadata": {},
   "outputs": [
    {
     "name": "stdout",
     "output_type": "stream",
     "text": [
      "0\n"
     ]
    }
   ],
   "source": [
    "ele66_=ele66.subs(theta_1,0)\n",
    "ele66_=ele66_.subs(theta_1_dot,0)\n",
    "ele66_=ele66_.subs(theta_2,0)\n",
    "ele66_=ele66_.subs(theta_2_dot,0)\n",
    "print(latex(simplify(ele66_)))"
   ]
  },
  {
   "cell_type": "code",
   "execution_count": 275,
   "metadata": {},
   "outputs": [
    {
     "name": "stdout",
     "output_type": "stream",
     "text": [
      "\\left[\\begin{matrix}0 & 1 & 0 & 0 & 0 & 0\\\\0 & 0 & - \\frac{g m_{1}}{M} & 0 & - \\frac{g m_{2}}{M} & 0\\\\0 & 0 & 0 & 1 & 0 & 0\\\\0 & 0 & \\frac{g \\left(- M - m_{1}\\right)}{M l_{1}} & 0 & - \\frac{g m_{2}}{M l_{1}} & 0\\\\0 & 0 & 0 & 0 & 0 & 1\\\\0 & 0 & - \\frac{g m_{1}}{M l_{2}} & 0 & \\frac{g \\left(- M - m_{2}\\right)}{M l_{2}} & 0\\end{matrix}\\right]\n"
     ]
    }
   ],
   "source": [
    "A_final = Matrix([[0,1,0,0,0,0],[0,0,ele23_,ele24_,ele25_,ele26_],[0,0,0,1,0,0],[0,0,ele43_,ele44_,ele45_,ele46_],[0,0,0,0,0,1],[0,0,ele63_,ele64_,ele65_,ele66_]])\n",
    "print(latex(simplify(A_final)))"
   ]
  },
  {
   "cell_type": "code",
   "execution_count": 276,
   "metadata": {},
   "outputs": [
    {
     "name": "stdout",
     "output_type": "stream",
     "text": [
      "\\frac{1}{M + m_{1} \\sin^{2}{\\left(\\theta_{1} \\right)} + m_{2} \\sin^{2}{\\left(\\theta_{2} \\right)}}\n"
     ]
    }
   ],
   "source": [
    "uele21=diff(f2,F)\n",
    "print(latex(uele21))"
   ]
  },
  {
   "cell_type": "code",
   "execution_count": 277,
   "metadata": {},
   "outputs": [
    {
     "name": "stdout",
     "output_type": "stream",
     "text": [
      "\\frac{1}{M}\n"
     ]
    }
   ],
   "source": [
    "uele21_=uele21.subs(theta_1,0)\n",
    "uele21_=uele21_.subs(theta_1_dot,0)\n",
    "uele21_=uele21_.subs(theta_2,0)\n",
    "uele21_=uele21_.subs(theta_2_dot,0)\n",
    "print(latex(simplify(uele21_)))"
   ]
  },
  {
   "cell_type": "code",
   "execution_count": 278,
   "metadata": {},
   "outputs": [
    {
     "name": "stdout",
     "output_type": "stream",
     "text": [
      "\\frac{\\cos{\\left(\\theta_{1} \\right)}}{l_{1} \\left(M + m_{1} \\sin^{2}{\\left(\\theta_{1} \\right)} + m_{2} \\sin^{2}{\\left(\\theta_{2} \\right)}\\right)}\n"
     ]
    }
   ],
   "source": [
    "uele41=diff(f4,F)\n",
    "print(latex(uele41))"
   ]
  },
  {
   "cell_type": "code",
   "execution_count": 279,
   "metadata": {},
   "outputs": [
    {
     "name": "stdout",
     "output_type": "stream",
     "text": [
      "\\frac{1}{M l_{1}}\n"
     ]
    }
   ],
   "source": [
    "uele41_=uele41.subs(theta_1,0)\n",
    "uele41_=uele41_.subs(theta_1_dot,0)\n",
    "uele41_=uele41_.subs(theta_2,0)\n",
    "uele41_=uele41_.subs(theta_2_dot,0)\n",
    "print(latex(simplify(uele41_)))"
   ]
  },
  {
   "cell_type": "code",
   "execution_count": 280,
   "metadata": {},
   "outputs": [
    {
     "name": "stdout",
     "output_type": "stream",
     "text": [
      "\\frac{\\cos{\\left(\\theta_{2} \\right)}}{l_{2} \\left(M + m_{1} \\sin^{2}{\\left(\\theta_{1} \\right)} + m_{2} \\sin^{2}{\\left(\\theta_{2} \\right)}\\right)}\n"
     ]
    }
   ],
   "source": [
    "uele61=diff(f6,F)\n",
    "print(latex(uele61))"
   ]
  },
  {
   "cell_type": "code",
   "execution_count": 281,
   "metadata": {},
   "outputs": [
    {
     "name": "stdout",
     "output_type": "stream",
     "text": [
      "\\frac{1}{M l_{2}}\n"
     ]
    }
   ],
   "source": [
    "uele61_=uele61.subs(theta_1,0)\n",
    "uele61_=uele61_.subs(theta_1_dot,0)\n",
    "uele61_=uele61_.subs(theta_2,0)\n",
    "uele61_=uele61_.subs(theta_2_dot,0)\n",
    "print(latex(simplify(uele61_)))"
   ]
  },
  {
   "cell_type": "code",
   "execution_count": 282,
   "metadata": {},
   "outputs": [
    {
     "name": "stdout",
     "output_type": "stream",
     "text": [
      "\\left[\\begin{matrix}0\\\\\\frac{1}{M}\\\\0\\\\\\frac{1}{M l_{1}}\\\\0\\\\\\frac{1}{M l_{2}}\\end{matrix}\\right]\n"
     ]
    }
   ],
   "source": [
    "B_final=Matrix([[0],[uele21_],[0],[uele41_],[0],[uele61_]])\n",
    "print(latex(B_final))"
   ]
  },
  {
   "cell_type": "code",
   "execution_count": 283,
   "metadata": {},
   "outputs": [],
   "source": [
    "Cont_Mat = Matrix([[B_final, A_final*B_final, A_final*A_final*B_final, A_final*A_final*A_final*B_final, A_final*A_final*A_final*A_final*B_final, A_final*A_final*A_final*A_final*A_final*B_final]])"
   ]
  },
  {
   "cell_type": "code",
   "execution_count": 284,
   "metadata": {},
   "outputs": [
    {
     "data": {
      "text/latex": [
       "$\\displaystyle \\left[\\begin{matrix}0 & \\frac{1}{M} & 0 & \\frac{g \\left(- l_{1} m_{2} - l_{2} m_{1}\\right)}{M^{2} l_{1} l_{2}} & 0 & \\frac{g^{2} \\left(l_{1} m_{2} \\left(l_{1} \\left(M + m_{2}\\right) + l_{2} m_{1}\\right) + l_{2} m_{1} \\left(l_{1} m_{2} + l_{2} \\left(M + m_{1}\\right)\\right)\\right)}{M^{3} l_{1}^{2} l_{2}^{2}}\\\\\\frac{1}{M} & 0 & \\frac{g \\left(- l_{1} m_{2} - l_{2} m_{1}\\right)}{M^{2} l_{1} l_{2}} & 0 & \\frac{g^{2} \\left(l_{1} m_{2} \\left(l_{1} \\left(M + m_{2}\\right) + l_{2} m_{1}\\right) + l_{2} m_{1} \\left(l_{1} m_{2} + l_{2} \\left(M + m_{1}\\right)\\right)\\right)}{M^{3} l_{1}^{2} l_{2}^{2}} & 0\\\\0 & \\frac{1}{M l_{1}} & 0 & \\frac{g \\left(- l_{1} m_{2} + l_{2} \\left(- M - m_{1}\\right)\\right)}{M^{2} l_{1}^{2} l_{2}} & 0 & \\frac{g^{2} \\left(l_{1} m_{2} \\left(l_{1} \\left(M + m_{2}\\right) + l_{2} \\left(M + m_{1}\\right)\\right) + l_{2} \\left(l_{1} m_{1} m_{2} + l_{2} \\left(M + m_{1}\\right)^{2}\\right)\\right)}{M^{3} l_{1}^{3} l_{2}^{2}}\\\\\\frac{1}{M l_{1}} & 0 & \\frac{g \\left(- l_{1} m_{2} + l_{2} \\left(- M - m_{1}\\right)\\right)}{M^{2} l_{1}^{2} l_{2}} & 0 & \\frac{g^{2} \\left(l_{1} m_{2} \\left(l_{1} \\left(M + m_{2}\\right) + l_{2} \\left(M + m_{1}\\right)\\right) + l_{2} \\left(l_{1} m_{1} m_{2} + l_{2} \\left(M + m_{1}\\right)^{2}\\right)\\right)}{M^{3} l_{1}^{3} l_{2}^{2}} & 0\\\\0 & \\frac{1}{M l_{2}} & 0 & \\frac{g \\left(l_{1} \\left(- M - m_{2}\\right) - l_{2} m_{1}\\right)}{M^{2} l_{1} l_{2}^{2}} & 0 & \\frac{g^{2} \\left(l_{1} \\left(l_{1} \\left(M + m_{2}\\right)^{2} + l_{2} m_{1} m_{2}\\right) + l_{2} m_{1} \\left(l_{1} \\left(M + m_{2}\\right) + l_{2} \\left(M + m_{1}\\right)\\right)\\right)}{M^{3} l_{1}^{2} l_{2}^{3}}\\\\\\frac{1}{M l_{2}} & 0 & \\frac{g \\left(l_{1} \\left(- M - m_{2}\\right) - l_{2} m_{1}\\right)}{M^{2} l_{1} l_{2}^{2}} & 0 & \\frac{g^{2} \\left(l_{1} \\left(l_{1} \\left(M + m_{2}\\right)^{2} + l_{2} m_{1} m_{2}\\right) + l_{2} m_{1} \\left(l_{1} \\left(M + m_{2}\\right) + l_{2} \\left(M + m_{1}\\right)\\right)\\right)}{M^{3} l_{1}^{2} l_{2}^{3}} & 0\\end{matrix}\\right]$"
      ],
      "text/plain": [
       "⎡                                                                             \n",
       "⎢       1                                  g⋅(-l₁⋅m₂ - l₂⋅m₁)                 \n",
       "⎢ 0     ─                0                 ──────────────────                 \n",
       "⎢       M                                        2                            \n",
       "⎢                                               M ⋅l₁⋅l₂                      \n",
       "⎢                                                                             \n",
       "⎢                                                                      2      \n",
       "⎢ 1             g⋅(-l₁⋅m₂ - l₂⋅m₁)                                    g ⋅(l₁⋅m\n",
       "⎢ ─     0       ──────────────────                  0                 ────────\n",
       "⎢ M                   2                                                       \n",
       "⎢                    M ⋅l₁⋅l₂                                                 \n",
       "⎢                                                                             \n",
       "⎢                                                                             \n",
       "⎢       1                               g⋅(-l₁⋅m₂ + l₂⋅(-M - m₁))             \n",
       "⎢ 0    ────              0              ─────────────────────────             \n",
       "⎢      M⋅l₁                                      2   2                        \n",
       "⎢                                               M ⋅l₁ ⋅l₂                     \n",
       "⎢                                                                             \n",
       "⎢                                                                   2 ⎛       \n",
       "⎢ 1          g⋅(-l₁⋅m₂ + l₂⋅(-M - m₁))                             g ⋅⎝l₁⋅m₂⋅(\n",
       "⎢────   0    ─────────────────────────              0              ───────────\n",
       "⎢M⋅l₁                 2   2                                                   \n",
       "⎢                    M ⋅l₁ ⋅l₂                                                \n",
       "⎢                                                                             \n",
       "⎢                                                                             \n",
       "⎢       1                               g⋅(l₁⋅(-M - m₂) - l₂⋅m₁)              \n",
       "⎢ 0    ────              0              ────────────────────────              \n",
       "⎢      M⋅l₂                                     2      2                      \n",
       "⎢                                              M ⋅l₁⋅l₂                       \n",
       "⎢                                                                             \n",
       "⎢                                                                   2 ⎛   ⎛   \n",
       "⎢ 1          g⋅(l₁⋅(-M - m₂) - l₂⋅m₁)                              g ⋅⎝l₁⋅⎝l₁⋅\n",
       "⎢────   0    ────────────────────────               0              ───────────\n",
       "⎢M⋅l₂                2      2                                                 \n",
       "⎣                   M ⋅l₁⋅l₂                                                  \n",
       "\n",
       "                                                                2             \n",
       "                                                               g ⋅(l₁⋅m₂⋅(l₁⋅(\n",
       "                       0                                       ───────────────\n",
       "                                                                              \n",
       "                                                                              \n",
       "                                                                              \n",
       "                                                                              \n",
       "₂⋅(l₁⋅(M + m₂) + l₂⋅m₁) + l₂⋅m₁⋅(l₁⋅m₂ + l₂⋅(M + m₁)))                        \n",
       "──────────────────────────────────────────────────────                        \n",
       "                   3   2   2                                                  \n",
       "                  M ⋅l₁ ⋅l₂                                                   \n",
       "                                                                              \n",
       "                                                             2 ⎛              \n",
       "                                                            g ⋅⎝l₁⋅m₂⋅(l₁⋅(M +\n",
       "                       0                                    ──────────────────\n",
       "                                                                              \n",
       "                                                                              \n",
       "                                                                              \n",
       "                                ⎛                      2⎞⎞                    \n",
       "l₁⋅(M + m₂) + l₂⋅(M + m₁)) + l₂⋅⎝l₁⋅m₁⋅m₂ + l₂⋅(M + m₁) ⎠⎠                    \n",
       "──────────────────────────────────────────────────────────                    \n",
       "                    3   3   2                                                 \n",
       "                   M ⋅l₁ ⋅l₂                                                  \n",
       "                                                                              \n",
       "                                                             2 ⎛   ⎛          \n",
       "                                                            g ⋅⎝l₁⋅⎝l₁⋅(M + m₂\n",
       "                       0                                    ──────────────────\n",
       "                                                                              \n",
       "                                                                              \n",
       "                                                                              \n",
       "        2           ⎞                                    ⎞                    \n",
       "(M + m₂)  + l₂⋅m₁⋅m₂⎠ + l₂⋅m₁⋅(l₁⋅(M + m₂) + l₂⋅(M + m₁))⎠                    \n",
       "──────────────────────────────────────────────────────────                    \n",
       "                    3   2   3                                                 \n",
       "                   M ⋅l₁ ⋅l₂                                                  \n",
       "\n",
       "                                                   ⎤\n",
       "M + m₂) + l₂⋅m₁) + l₂⋅m₁⋅(l₁⋅m₂ + l₂⋅(M + m₁)))    ⎥\n",
       "───────────────────────────────────────────────    ⎥\n",
       "            3   2   2                              ⎥\n",
       "           M ⋅l₁ ⋅l₂                               ⎥\n",
       "                                                   ⎥\n",
       "                                                   ⎥\n",
       "                                                   ⎥\n",
       "                0                                  ⎥\n",
       "                                                   ⎥\n",
       "                                                   ⎥\n",
       "                                                   ⎥\n",
       "                         ⎛                      2⎞⎞⎥\n",
       " m₂) + l₂⋅(M + m₁)) + l₂⋅⎝l₁⋅m₁⋅m₂ + l₂⋅(M + m₁) ⎠⎠⎥\n",
       "───────────────────────────────────────────────────⎥\n",
       "             3   3   2                             ⎥\n",
       "            M ⋅l₁ ⋅l₂                              ⎥\n",
       "                                                   ⎥\n",
       "                                                   ⎥\n",
       "                                                   ⎥\n",
       "                0                                  ⎥\n",
       "                                                   ⎥\n",
       "                                                   ⎥\n",
       "                                                   ⎥\n",
       " 2           ⎞                                    ⎞⎥\n",
       ")  + l₂⋅m₁⋅m₂⎠ + l₂⋅m₁⋅(l₁⋅(M + m₂) + l₂⋅(M + m₁))⎠⎥\n",
       "───────────────────────────────────────────────────⎥\n",
       "             3   2   3                             ⎥\n",
       "            M ⋅l₁ ⋅l₂                              ⎥\n",
       "                                                   ⎥\n",
       "                                                   ⎥\n",
       "                                                   ⎥\n",
       "                0                                  ⎥\n",
       "                                                   ⎥\n",
       "                                                   ⎦"
      ]
     },
     "execution_count": 284,
     "metadata": {},
     "output_type": "execute_result"
    }
   ],
   "source": [
    "simplify((Cont_Mat))"
   ]
  },
  {
   "cell_type": "code",
   "execution_count": 285,
   "metadata": {},
   "outputs": [
    {
     "data": {
      "image/png": "[encoded data removed]",
      "text/latex": [
       "$\\displaystyle 6$"
      ],
      "text/plain": [
       "6"
      ]
     },
     "execution_count": 285,
     "metadata": {},
     "output_type": "execute_result"
    }
   ],
   "source": [
    "Cont_Mat.rank()"
   ]
  },
  {
   "cell_type": "code",
   "execution_count": 286,
   "metadata": {},
   "outputs": [
    {
     "name": "stdout",
     "output_type": "stream",
     "text": [
      "\\frac{g^{6} \\left(- l_{1}^{2} + 2 l_{1} l_{2} - l_{2}^{2}\\right)}{M^{6} l_{1}^{6} l_{2}^{6}}\n"
     ]
    }
   ],
   "source": [
    "print(latex(simplify(Cont_Mat.det())))"
   ]
  },
  {
   "cell_type": "code",
   "execution_count": 287,
   "metadata": {},
   "outputs": [],
   "source": [
    "#Part D of the Question starts here,\n",
    "CM_= Cont_Mat.subs(M, 1000)\n",
    "CM_= CM_.subs(m_1, 100)\n",
    "CM_= CM_.subs(m_2, 100)\n",
    "CM_= CM_.subs(l_1,20)\n",
    "CM_=CM_.subs(l_2, 10)\n",
    "CM_=CM_.subs(g,9.81)"
   ]
  },
  {
   "cell_type": "code",
   "execution_count": 288,
   "metadata": {},
   "outputs": [
    {
     "data": {
      "text/plain": [
       "'\\\\left[\\\\begin{matrix}0 & \\\\frac{1}{1000} & 0 & -0.00014715 & 0 & 0.0001419482475\\\\\\\\\\\\frac{1}{1000} & 0 & -0.00014715 & 0 & 0.0001419482475 & 0\\\\\\\\0 & \\\\frac{1}{20000} & 0 & -3.18825 \\\\cdot 10^{-5} & 0 & 2.2735778625 \\\\cdot 10^{-5}\\\\\\\\\\\\frac{1}{20000} & 0 & -3.18825 \\\\cdot 10^{-5} & 0 & 2.2735778625 \\\\cdot 10^{-5} & 0\\\\\\\\0 & \\\\frac{1}{10000} & 0 & -0.000112815 & 0 & 0.00012486633975\\\\\\\\\\\\frac{1}{10000} & 0 & -0.000112815 & 0 & 0.00012486633975 & 0\\\\end{matrix}\\\\right]'"
      ]
     },
     "execution_count": 288,
     "metadata": {},
     "output_type": "execute_result"
    }
   ],
   "source": [
    "latex(CM_)"
   ]
  }
 ],
 "metadata": {
  "kernelspec": {
   "display_name": "Python 3.8.10 64-bit",
   "language": "python",
   "name": "python3"
  },
  "language_info": {
   "codemirror_mode": {
    "name": "ipython",
    "version": 3
   },
   "file_extension": ".py",
   "mimetype": "text/x-python",
   "name": "python",
   "nbconvert_exporter": "python",
   "pygments_lexer": "ipython3",
   "version": "3.8.10"
  },
  "orig_nbformat": 4,
  "vscode": {
   "interpreter": {
    "hash": "916dbcbb3f70747c44a77c7bcd40155683ae19c65e1c03b4aa3499c5328201f1"
   }
  }
 },
 "nbformat": 4,
 "nbformat_minor": 2
}
